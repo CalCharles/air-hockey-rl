{
 "cells": [
  {
   "cell_type": "code",
   "execution_count": 11,
   "id": "6c994178-1c56-4aa1-929a-fc20ffb2f2da",
   "metadata": {},
   "outputs": [],
   "source": [
    "from extract_puck_data import *"
   ]
  },
  {
   "cell_type": "code",
   "execution_count": 15,
   "id": "6e459154-2a7b-4067-bb78-1eac4fa5f6dc",
   "metadata": {},
   "outputs": [
    {
     "ename": "KeyboardInterrupt",
     "evalue": "",
     "output_type": "error",
     "traceback": [
      "\u001b[0;31m---------------------------------------------------------------------------\u001b[0m",
      "\u001b[0;31mKeyboardInterrupt\u001b[0m                         Traceback (most recent call last)",
      "Cell \u001b[0;32mIn[15], line 22\u001b[0m\n\u001b[1;32m     18\u001b[0m red_hsv \u001b[38;5;241m=\u001b[39m [[\u001b[38;5;241m0\u001b[39m,\u001b[38;5;241m100\u001b[39m,\u001b[38;5;241m50\u001b[39m], [\u001b[38;5;241m50\u001b[39m,\u001b[38;5;241m255\u001b[39m,\u001b[38;5;241m255\u001b[39m]]\n\u001b[1;32m     21\u001b[0m \u001b[38;5;28;01mif\u001b[39;00m true_if_red:\n\u001b[0;32m---> 22\u001b[0m     refined_img, idx,mask \u001b[38;5;241m=\u001b[39m \u001b[43mfind_hsv_puck\u001b[49m\u001b[43m(\u001b[49m\u001b[43mdst\u001b[49m\u001b[43m,\u001b[49m\u001b[43m \u001b[49m\u001b[43mcolor_hsv\u001b[49m\u001b[38;5;241;43m=\u001b[39;49m\u001b[43mred_hsv\u001b[49m\u001b[43m,\u001b[49m\u001b[43m \u001b[49m\u001b[43mapply_mask\u001b[49m\u001b[38;5;241;43m=\u001b[39;49m\u001b[38;5;28;43;01mTrue\u001b[39;49;00m\u001b[43m,\u001b[49m\u001b[43m \u001b[49m\u001b[43mglare\u001b[49m\u001b[38;5;241;43m=\u001b[39;49m\u001b[38;5;28;43;01mFalse\u001b[39;49;00m\u001b[43m \u001b[49m\u001b[43m)\u001b[49m\n\u001b[1;32m     23\u001b[0m \u001b[38;5;28;01melse\u001b[39;00m:\n\u001b[1;32m     24\u001b[0m     alternate_color \u001b[38;5;241m=\u001b[39m [[\u001b[38;5;241m40\u001b[39m,\u001b[38;5;241m70\u001b[39m,\u001b[38;5;241m50\u001b[39m], [\u001b[38;5;241m80\u001b[39m,\u001b[38;5;241m255\u001b[39m,\u001b[38;5;241m255\u001b[39m]]\n",
      "File \u001b[0;32m/scratch/cluster/mrudolph/documents/air-hockey-rl/dataset_management/extract_puck_data.py:142\u001b[0m, in \u001b[0;36mfind_hsv_puck\u001b[0;34m(image, color_hsv, apply_mask, color_alt, glare)\u001b[0m\n\u001b[1;32m    139\u001b[0m     refined_mask \u001b[38;5;241m=\u001b[39m cv2\u001b[38;5;241m.\u001b[39minRange(hsv_image, refined_lower, refined_upper)\n\u001b[1;32m    141\u001b[0m     \u001b[38;5;28;01mif\u001b[39;00m glare:\n\u001b[0;32m--> 142\u001b[0m         glared_red \u001b[38;5;241m=\u001b[39m  [[\u001b[38;5;241m0\u001b[39m,\u001b[38;5;241m50\u001b[39m,\u001b[38;5;241m50\u001b[39m], [\u001b[38;5;241m50\u001b[39m,\u001b[38;5;241m255\u001b[39m,\u001b[38;5;241m255\u001b[39m]]\n\u001b[1;32m    143\u001b[0m         refined_mask[\u001b[38;5;241m300\u001b[39m:\u001b[38;5;241m900\u001b[39m, \u001b[38;5;241m600\u001b[39m:\u001b[38;5;241m900\u001b[39m] \u001b[38;5;241m=\u001b[39m cv2\u001b[38;5;241m.\u001b[39minRange(hsv_image[\u001b[38;5;241m300\u001b[39m:\u001b[38;5;241m900\u001b[39m, \u001b[38;5;241m600\u001b[39m:\u001b[38;5;241m900\u001b[39m,:], np\u001b[38;5;241m.\u001b[39marray(glared_red[\u001b[38;5;241m0\u001b[39m]), np\u001b[38;5;241m.\u001b[39marray(glared_red[\u001b[38;5;241m1\u001b[39m]))\n\u001b[1;32m    145\u001b[0m remove_table_edges_mask \u001b[38;5;241m=\u001b[39m np\u001b[38;5;241m.\u001b[39mzeros((h,w), dtype\u001b[38;5;241m=\u001b[39mnp\u001b[38;5;241m.\u001b[39muint8)\n",
      "\u001b[0;31mKeyboardInterrupt\u001b[0m: "
     ]
    }
   ],
   "source": [
    "# try:\n",
    "plt.rcParams['figure.figsize'] = [10, 10]\n",
    "true_if_red = True\n",
    "for traj in range(300, 1000):\n",
    "    # try:\n",
    "    path = f'/datastor1/calebc/public/data/mouse/cleaned_all/trajectory_data{traj}.hdf5'\n",
    "    dataset_dict = {}\n",
    "    dataset_dict = load_hdf5_to_dict(path)\n",
    "    xs,ys = [], []\n",
    "    # create_video_from_frames(dataset_dict['train_img'], f'traj_videos/traj_video{traj}.mp4')\n",
    "    imgs = dataset_dict['train_img']#[150:160]\n",
    "    for i, img in enumerate(imgs):\n",
    "        train_img = cv2.cvtColor(img, cv2.COLOR_RGB2BGR)\n",
    "        dst, save_img = homography_transform(train_img)\n",
    "\n",
    "        green_hsv = [[40,100,50], [80,255,255]]\n",
    "        # red_hsv = [[0,100,50], [50,255,255]]\n",
    "        red_hsv = [[0,100,50], [50,255,255]]\n",
    "        \n",
    "\n",
    "        if true_if_red:\n",
    "            refined_img, idx,mask = find_hsv_puck(dst, color_hsv=red_hsv, apply_mask=True, glare=False )\n",
    "        else:\n",
    "            alternate_color = [[40,70,50], [80,255,255]]\n",
    "            refined_img, idx,mask = find_hsv_puck(dst, color_hsv=green_hsv, apply_mask=True, color_alt=alternate_color)\n",
    "\n",
    "        x,y = np.median(idx[0]), np.median(idx[1])\n",
    "\n",
    "        \n",
    "        MIN_PTS_CUTOFF = 500 if true_if_red else 200\n",
    "        if len(idx[0]) < MIN_PTS_CUTOFF:\n",
    "            xs.append(np.NaN)\n",
    "            ys.append(np.NaN)\n",
    "        else:\n",
    "            xs.append(x)\n",
    "            ys.append(y)\n",
    "            \n",
    "        if i == 0:\n",
    "            img_puck_traj = dst \n",
    "            total_mask = mask\n",
    "        else:\n",
    "            total_mask = (total_mask | mask)\n",
    "            img_puck_traj[:,:,0] = np.minimum(img_puck_traj[:,:,0], dst[:,:,0])\n",
    "            img_puck_traj[:,:,1] = np.minimum(img_puck_traj[:,:,1], dst[:,:,1])\n",
    "            img_puck_traj[:,:,2] = np.minimum(img_puck_traj[:,:,2], dst[:,:,2])\n",
    "    \n",
    "    xy_robot_frame = pixel2loc(xs, ys) #\n",
    "    plt.figure()\n",
    "    plt.subplot(2,2,1)\n",
    "    plt.imshow(dst)\n",
    "    plt.subplot(2,2,2)\n",
    "    plt.plot(xy_robot_frame[1], xy_robot_frame[0])\n",
    "\n",
    "    ax = plt.gca()  # Get current axes\n",
    "\n",
    "    ax.set_aspect(aspect='equal', adjustable='box')\n",
    "    # ax.invert_yaxis()\n",
    "    \n",
    "    plt.subplot(2,2,3)\n",
    "    plt.imshow(img_puck_traj)\n",
    "    plt.subplot(2,2,4)\n",
    "    plt.imshow(total_mask)\n",
    "    plt.savefig(f'../traj_videos/traj_plot{traj}.png')\n",
    "    # plt.show()\n",
    "    plt.clf()\n",
    "    \n",
    "    # Create a new HDF5 file\n",
    "    save_dir = '../testt/'\n",
    "    \n",
    "    save_path = save_dir + f'state_trajectory_data{traj}.hdf5'\n",
    "    dataset_dict['puck_state'] = xy_robot_frame\n",
    "    dataset_dict['puck_state_nan_mask'] = np.isnan(xy_robot_frame)\n",
    "    with h5py.File(save_path, 'w') as hdf5_file:\n",
    "        print(dataset_dict.keys())\n",
    "        save_dict_to_hdf5(dataset_dict, hdf5_file)\n",
    "        \n",
    "    print(f'finished traj {traj}')\n"
   ]
  },
  {
   "cell_type": "code",
   "execution_count": null,
   "id": "d4c48302-a247-4d6c-9fe0-9109fff2e090",
   "metadata": {},
   "outputs": [],
   "source": []
  }
 ],
 "metadata": {
  "kernelspec": {
   "display_name": "Python 3 (ipykernel)",
   "language": "python",
   "name": "python3"
  },
  "language_info": {
   "codemirror_mode": {
    "name": "ipython",
    "version": 3
   },
   "file_extension": ".py",
   "mimetype": "text/x-python",
   "name": "python",
   "nbconvert_exporter": "python",
   "pygments_lexer": "ipython3",
   "version": "3.11.7"
  }
 },
 "nbformat": 4,
 "nbformat_minor": 5
}
